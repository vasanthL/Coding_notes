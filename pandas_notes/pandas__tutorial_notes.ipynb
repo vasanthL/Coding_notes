{
  "nbformat": 4,
  "nbformat_minor": 5,
  "metadata": {
    "kernelspec": {
      "display_name": "Python 3",
      "language": "python",
      "name": "python3"
    },
    "language_info": {
      "codemirror_mode": {
        "name": "ipython",
        "version": 3
      },
      "file_extension": ".py",
      "mimetype": "text/x-python",
      "name": "python",
      "nbconvert_exporter": "python",
      "pygments_lexer": "ipython3",
      "version": "3.9.0"
    },
    "colab": {
      "name": "pandas__tutorial_notes.ipynb",
      "provenance": [],
      "include_colab_link": true
    }
  },
  "cells": [
    {
      "cell_type": "markdown",
      "metadata": {
        "id": "view-in-github",
        "colab_type": "text"
      },
      "source": [
        "<a href=\"https://colab.research.google.com/github/vasanthL/Coding_notes/blob/main/pandas_notes/pandas__tutorial_notes.ipynb\" target=\"_parent\"><img src=\"https://colab.research.google.com/assets/colab-badge.svg\" alt=\"Open In Colab\"/></a>"
      ]
    },
    {
      "cell_type": "markdown",
      "metadata": {
        "id": "0dfca5e3"
      },
      "source": [
        "# Python Pandas tutorial"
      ],
      "id": "0dfca5e3"
    },
    {
      "cell_type": "code",
      "metadata": {
        "id": "62abbe01"
      },
      "source": [
        "# Contains code samples and learning tutorials on python pandas"
      ],
      "id": "62abbe01",
      "execution_count": null,
      "outputs": []
    },
    {
      "cell_type": "code",
      "metadata": {
        "id": "4702eee7"
      },
      "source": [
        "# Tutorial point link for pandas\n",
        "# https://www.tutorialspoint.com/python_pandas/python_pandas_quick_guide.htm"
      ],
      "id": "4702eee7",
      "execution_count": null,
      "outputs": []
    },
    {
      "cell_type": "code",
      "metadata": {
        "id": "9b918283"
      },
      "source": [
        "\n",
        "#    Definition for pandas - Pandas is an open-source Python Library providing high-performance data manipulation and \n",
        "# analysis tool using its powerful data structures\n",
        "\n"
      ],
      "id": "9b918283",
      "execution_count": null,
      "outputs": []
    },
    {
      "cell_type": "code",
      "metadata": {
        "id": "8eec1ffd"
      },
      "source": [
        "'''\n",
        "Key Features of Pandas\n",
        "    1. Fast and efficient DataFrame object with default and customized indexing.\n",
        "    2. Tools for loading data into in-memory data objects from different file formats.\n",
        "    3. Data alignment and integrated handling of missing data.\n",
        "    4. Reshaping and pivoting of date sets.\n",
        "    5. Label-based slicing, indexing and subsetting of large data sets.\n",
        "    6. Columns from a data structure can be deleted or inserted.\n",
        "    7. Group by data for aggregation and transformations.\n",
        "    8. High performance merging and joining of data.\n",
        "    9. Time Series functionality.\n",
        "\n",
        "'''"
      ],
      "id": "8eec1ffd",
      "execution_count": null,
      "outputs": []
    },
    {
      "cell_type": "code",
      "metadata": {
        "id": "7f0fae50"
      },
      "source": [
        "# PIP command to install pandas\n",
        "#    pip install pandas\n",
        "\n",
        "# Package managers of respective Linux distributions are used to install one or more packages in SciPy stack.\n",
        "# For Ubuntu Users\n",
        "# sudo apt-get install python-numpy python-scipy python-matplotlibipythonipythonnotebook python-pandas python-sympy python-nose"
      ],
      "id": "7f0fae50",
      "execution_count": null,
      "outputs": []
    },
    {
      "cell_type": "markdown",
      "metadata": {
        "id": "a67152d5"
      },
      "source": [
        "## Introduction to Data Structures"
      ],
      "id": "a67152d5"
    },
    {
      "cell_type": "code",
      "metadata": {
        "id": "4dc1593d"
      },
      "source": [
        "'''\n",
        "    Pandas deals with the following three data structures −\n",
        "    1. Series\n",
        "    2. DataFrame\n",
        "    3. Panel\n",
        "\n",
        "These data structures are built on top of Numpy array, which means they are fast.\n",
        "'''"
      ],
      "id": "4dc1593d",
      "execution_count": null,
      "outputs": []
    },
    {
      "cell_type": "code",
      "metadata": {
        "id": "bd6d5359"
      },
      "source": [
        "# Dimension & Description\n",
        "# The best way to think of these data structures is that the higher dimensional data structure is a container of its lower dimensional data structure. \n",
        "# For example, DataFrame is a container of Series, Panel is a container of DataFrame.\n",
        "\n"
      ],
      "id": "bd6d5359",
      "execution_count": null,
      "outputs": []
    },
    {
      "cell_type": "markdown",
      "metadata": {
        "id": "bc72e0f1"
      },
      "source": [
        "## <span style=\"color:#34568b\"> Datastructures types</span>\n",
        "\n",
        "|<span style=\"color:#88b04b\">Data Structure| <span style=\"color:#88b04b\">Dimensions</span> | <span style=\"color:#88b04b\">Description</span> |\n",
        ":------------:|:----------:|:------------:|\n",
        "| Series |\t1\t| 1D labeled homogeneous array, sizeimmutable. |\n",
        "| Data Frames |\t2\t| General 2D labeled, size-mutable tabular structure with potentially heterogeneously typed columns. |\n",
        "| Panel |\t3\t| General 3D labeled, size-mutable array. |\n"
      ],
      "id": "bc72e0f1"
    },
    {
      "cell_type": "markdown",
      "metadata": {
        "id": "b9f4d451"
      },
      "source": [
        "> Building and handling two or more dimensional arrays is a tedious task, burden is placed on the user to consider the orientation of the data set when writing functions. But using Pandas data structures, the mental effort of the user is reduced.\n",
        "\n",
        "> For example, with tabular data (DataFrame) it is more semantically helpful to think of the index (the rows) and the columns rather than axis 0 and axis 1.\n"
      ],
      "id": "b9f4d451"
    },
    {
      "cell_type": "markdown",
      "metadata": {
        "id": "4de2463b"
      },
      "source": [
        "# Mutability\n",
        ">All Pandas data structures are value mutable (can be changed) and except Series all are size mutable. Series is size immutable.\n",
        "Note − DataFrame is widely used and one of the most important data structures. Panel is used much less.\n",
        "-------------------------------------------------------------------------------------------------------"
      ],
      "id": "4de2463b"
    },
    {
      "cell_type": "markdown",
      "metadata": {
        "id": "9d832cbf"
      },
      "source": [
        "## Series\n",
        "Series is a one-dimensional array like structure with homogeneous data. For example, the following series is a collection of integers 10, 23, 56, …\n",
        "\n",
        "| 10 |\t23\t |56 | 17 |\n",
        "\n",
        "\n",
        "#### Key Points\n",
        "- Homogeneous data\n",
        "- Size Immutable\n",
        "- Values of Data Mutable"
      ],
      "id": "9d832cbf"
    },
    {
      "cell_type": "markdown",
      "metadata": {
        "id": "c2c6c2ca"
      },
      "source": [
        "## DataFrame\n",
        "\n",
        "The data types of the four columns are as follows −\n",
        "\n",
        "\n",
        "| Column |  Type  |\n",
        "|------|------|\n",
        "|Name|\tString|\n",
        "|Age|\tInteger|\n",
        "|Gender|\tString|\n",
        "|Rating|\tFloat|\n",
        "\n",
        "#### Key Points\n",
        "- Heterogeneous data\n",
        "- Size Mutable\n",
        "- Data Mutable"
      ],
      "id": "c2c6c2ca"
    },
    {
      "cell_type": "markdown",
      "metadata": {
        "id": "89d8602e"
      },
      "source": [
        "## Panel\n",
        "\n",
        "Panel is a three-dimensional data structure with heterogeneous data. It is hard to represent the panel in graphical representation. But a panel can be illustrated as a container of DataFrame.\n",
        "\n",
        "#### Key Points\n",
        "- Heterogeneous data\n",
        "- Size Mutable\n",
        "- Data Mutable"
      ],
      "id": "89d8602e"
    },
    {
      "cell_type": "markdown",
      "metadata": {
        "id": "dc32a096"
      },
      "source": [
        "## <span style=\"color:#34568b; text-align:right\">Python Pandas - Series</span> "
      ],
      "id": "dc32a096"
    },
    {
      "cell_type": "code",
      "metadata": {
        "id": "78501882"
      },
      "source": [
        "# A pandas Series can be created using the following constructor −\n",
        "\n",
        "# pandas.Series( data, index, dtype, copy)"
      ],
      "id": "78501882",
      "execution_count": null,
      "outputs": []
    },
    {
      "cell_type": "markdown",
      "metadata": {
        "id": "06c6878e"
      },
      "source": [
        "The parameters of the constructor are as follows −\n",
        "\n",
        " | Sr.No| Parameter & Description |\n",
        "|:-----:|:-----------------------:|\n",
        "|1| data - data takes various forms like ndarray, list, constants|\n",
        "|2 |index - Index values must be unique and hashable, same length as data. Default np.arange(n) if no index is passed.|\n",
        "| 3 |\tdtype - dtype is for data type. If None, data type will be inferred|\n",
        "| 4 |\tcopy Copy data. Default False |\n",
        "\n",
        "\n",
        "A series can be created using various inputs like −\n",
        "\n",
        "- Array\n",
        "- Dict\n",
        "- Scalar value or constant"
      ],
      "id": "06c6878e"
    },
    {
      "cell_type": "code",
      "metadata": {
        "id": "93c055c3",
        "outputId": "cd02cc51-70d0-47a2-af45-3e0583447414"
      },
      "source": [
        "## Create an Empty Series\n",
        "# A basic series, which can be created is an Empty Series.\n",
        "\n",
        "# Example \n",
        "#import the pandas library and aliasing as pd\n",
        "import pandas as pd\n",
        "s = pd.Series()\n",
        "print(s) "
      ],
      "id": "93c055c3",
      "execution_count": null,
      "outputs": [
        {
          "output_type": "stream",
          "text": [
            "Series([], dtype: float64)\n"
          ],
          "name": "stdout"
        },
        {
          "output_type": "stream",
          "text": [
            "<ipython-input-16-d85ebc76e959>:7: DeprecationWarning: The default dtype for empty Series will be 'object' instead of 'float64' in a future version. Specify a dtype explicitly to silence this warning.\n",
            "  s = pd.Series()\n"
          ],
          "name": "stderr"
        }
      ]
    },
    {
      "cell_type": "code",
      "metadata": {
        "id": "a931089e",
        "outputId": "31ff739e-c8b3-4f5c-9f33-dbe22acbf4a3"
      },
      "source": [
        "# Create a Series from ndarray\n",
        "# If data is an ndarray, then index passed must be of the same\n",
        "# length. If no index is passed, then by default index will be# \n",
        "# range(n) where n is array length, \n",
        "# i.e., [0,1,2,3…. range(len(array))-1].\n",
        "\n",
        "import pandas as pd \n",
        "import numpy as np\n",
        "\n",
        "data = np.array([1,2,4,4,5])\n",
        "print('data ->',data,sep=\"\\n\")\n",
        "print('---------------------------------------------------')\n",
        "\n",
        "#print series from numpy ndarray\n",
        "series = pd.Series(data)\n",
        "print('series ->',series,sep=\"\\n\")\n",
        "print('---------------------------------------------------')\n",
        "\n",
        "#with custom index specified\n",
        "series = pd.Series(data, index=['a', 'b', 'r', 'd','e'])\n",
        "print('series with custom index->',series,sep=\"\\n\")\n",
        "\n",
        "print('---------------------------------------------------')\n",
        "\n",
        "#with custom index length more or lessser both throws error\n",
        "\n",
        "# seriesWithIndexLengthGreat = pd.Series(data, index = ['a','b', 'c', 'd', 'e','f'])\n",
        "# print('series with custom index length greater ->', seriesWithCustomIndexLengthGreat, sep=\"\\n\")\n",
        "# seriesWithIndexLengthLess = pd.Series(data, index = ['a','b','d','e'])\n",
        "# print('series with custom index length lesser ->', seriesWithIndexLengthLess, sep=\"\\n\")\n",
        "\n",
        "# with custom data type \n",
        "seriesWithDType = pd.Series(data, dtype=bool)\n",
        "print('seriesWithDType ->',seriesWithDType,sep=\"\\n\")"
      ],
      "id": "a931089e",
      "execution_count": null,
      "outputs": [
        {
          "output_type": "stream",
          "text": [
            "data ->\n",
            "[1 2 4 4 5]\n",
            "---------------------------------------------------\n",
            "series ->\n",
            "0    1\n",
            "1    2\n",
            "2    4\n",
            "3    4\n",
            "4    5\n",
            "dtype: int32\n",
            "---------------------------------------------------\n",
            "series with custom index->\n",
            "a    1\n",
            "b    2\n",
            "r    4\n",
            "d    4\n",
            "e    5\n",
            "dtype: int32\n",
            "---------------------------------------------------\n",
            "seriesWithDType ->\n",
            "0    True\n",
            "1    True\n",
            "2    True\n",
            "3    True\n",
            "4    True\n",
            "dtype: bool\n"
          ],
          "name": "stdout"
        }
      ]
    },
    {
      "cell_type": "code",
      "metadata": {
        "id": "f5fd74e4",
        "outputId": "6de47ed0-55c9-4ffb-c405-1067e17620af"
      },
      "source": [
        "'''Create a Series from dict\n",
        "A dict can be passed as input and if no index is specified, then the dictionary keys are taken in a sorted order to construct index. If index is passed, the values in data corresponding to the labels in the index will be pulled out.'''\n",
        "\n",
        "import pandas as pd\n",
        "import numpy as np\n",
        "data = {'a':0.2, 'b':0.9, 'c':0.4}\n",
        "series_dict = pd.Series(data)\n",
        "print('Series from dict -> ',series_dict,sep='\\n')\n",
        "\n",
        "#with changed index\n",
        "data2 = {'a':0.2, 'b':0.9, 'c':0.4}\n",
        "series_dict_index = pd.Series(data2, index=['c', 'b', 'd'])\n",
        "print('Series from dict with custom index',series_dict_index,sep='\\n')\n",
        "# Observe − Index order is persisted and the missing element is filled with NaN (Not a Number)."
      ],
      "id": "f5fd74e4",
      "execution_count": null,
      "outputs": [
        {
          "output_type": "stream",
          "text": [
            "Series from dict -> \n",
            "a    0.2\n",
            "b    0.9\n",
            "c    0.4\n",
            "dtype: float64\n",
            "Series from dict with custom index\n",
            "c    0.4\n",
            "b    0.9\n",
            "d    NaN\n",
            "dtype: float64\n"
          ],
          "name": "stdout"
        }
      ]
    },
    {
      "cell_type": "code",
      "metadata": {
        "id": "7e6d4c02",
        "outputId": "64d4a9cb-5968-4334-a8f4-76755650998f"
      },
      "source": [
        "# Create a Series from Scalar\n",
        "# If data is a scalar value, an index must be provided. The value will be repeated to match the length of index\n",
        "\n",
        "import pandas as pd\n",
        "\n",
        "# index need not be in asc or dec order  and can contain various var types\n",
        "series_scalar =  pd.Series(5,index=['a',1,2.0,3])\n",
        "print('Series with scalar',series_scalar,sep='\\n')"
      ],
      "id": "7e6d4c02",
      "execution_count": null,
      "outputs": [
        {
          "output_type": "stream",
          "text": [
            "Series with scalar\n",
            "a      5\n",
            "1      5\n",
            "2.0    5\n",
            "3      5\n",
            "dtype: int64\n"
          ],
          "name": "stdout"
        }
      ]
    },
    {
      "cell_type": "code",
      "metadata": {
        "id": "a9839bd0",
        "outputId": "1908efad-2db9-475a-ec8b-26db463fe062"
      },
      "source": [
        "'''\n",
        "   Accessing Data from Series with Position\n",
        "Data in the series can be accessed similar to that in an ndarray.\n",
        "\n",
        "Example 1\n",
        "Retrieve the first element. As we already know, the counting starts from zero for the array, which means the first element is stored at zeroth position and so on. \n",
        "'''\n",
        "\n",
        "import pandas as pd\n",
        "#series dtype can be changed using dtype specs\n",
        "series_pos = pd.Series(5, index=[1,2,4,5], dtype=float)\n",
        "print('series ->', series_pos,sep='\\n')\n",
        "print('------------------------------')\n",
        "\n",
        "#getting series value is same as in array\n",
        "print('series value at pos 1', series_pos[1],sep='\\n')\n",
        "\n",
        "# getting a series range\n",
        "print('Series Range',series_pos[:3],sep='\\n')\n",
        "\n",
        "#printing custom values\n",
        "print('Series random values',series_pos[[1,4,5]],sep='\\n')\n",
        "\n",
        "#printing custom random str indices\n",
        "series_indeces = pd.Series(4,index=['a','b','c','d'])\n",
        "print('Series with custom indices',series_indeces[['a','d']],sep='\\n')"
      ],
      "id": "a9839bd0",
      "execution_count": null,
      "outputs": [
        {
          "output_type": "stream",
          "text": [
            "series ->\n",
            "1    5.0\n",
            "2    5.0\n",
            "4    5.0\n",
            "5    5.0\n",
            "dtype: float64\n",
            "------------------------------\n",
            "series value at pos 1\n",
            "5.0\n",
            "Series Range\n",
            "1    5.0\n",
            "2    5.0\n",
            "4    5.0\n",
            "dtype: float64\n",
            "Series random values\n",
            "1    5.0\n",
            "4    5.0\n",
            "5    5.0\n",
            "dtype: float64\n",
            "Series with custom indices\n",
            "a    4\n",
            "d    4\n",
            "dtype: int64\n"
          ],
          "name": "stdout"
        }
      ]
    },
    {
      "cell_type": "markdown",
      "metadata": {
        "id": "a52328fe"
      },
      "source": [
        "## Python Pandas - DataFrame\n",
        "> A Data frame is a two-dimensional data structure, i.e., data is aligned in a tabular fashion in rows and columns.\n",
        "\n",
        "### Features of DataFrame\n",
        "- Potentially columns are of different types\n",
        "- Size – Mutable\n",
        "- Labeled axes (rows and columns)\n",
        "- Can Perform Arithmetic operations on rows and columns Structure\n",
        "\n",
        "> Let us assume that we are creating a data frame with student’s data.\n",
        "\n"
      ],
      "id": "a52328fe"
    },
    {
      "cell_type": "code",
      "metadata": {
        "id": "068a8ee3"
      },
      "source": [
        "# pandas.DataFrame\n",
        "# A pandas DataFrame can be created using the following constructor −\n",
        "# pandas.DataFrame(data,index,columns, dtype,copy)"
      ],
      "id": "068a8ee3",
      "execution_count": null,
      "outputs": []
    },
    {
      "cell_type": "markdown",
      "metadata": {
        "id": "f8c02f4c"
      },
      "source": [
        "| Sr No | Parameter & Description |\n",
        "|-------|-------------------------|\n",
        "| 1|data - data takes various forms like ndarray, series, map, lists, dict, constants and also another DataFrame.|\n",
        "| 2|index - For the row labels, the Index to be used for the resulting frame is Optional Default np.arange(n) if no index is passed.|\n",
        "| 3|columns - For column labels, the optional default syntax is - np.arange(n). This is only true if no index is passed.|\n",
        "| 4|\tdtype - Data type of each column.|\n",
        "\n",
        "### Create DataFrame\n",
        "A pandas DataFrame can be created using various inputs like −\n",
        "\n",
        "- Lists\n",
        "- dict\n",
        "- Series\n",
        "- Numpy ndarrays\n",
        "- Another DataFrame\n",
        "In the subsequent sections of this chapter, we will see how to create a DataFrame using these inputs.\n"
      ],
      "id": "f8c02f4c"
    },
    {
      "cell_type": "code",
      "metadata": {
        "id": "67f21ff1",
        "outputId": "30b2cc9d-ba4c-46f6-8386-dfc7c23ce7b2"
      },
      "source": [
        "# Create ab empty DataFrame\n",
        "import pandas as pd\n",
        "df= pd.DataFrame()\n",
        "print(df) # empty dataframe with 0 rows and columns "
      ],
      "id": "67f21ff1",
      "execution_count": null,
      "outputs": [
        {
          "output_type": "stream",
          "text": [
            "Empty DataFrame\n",
            "Columns: []\n",
            "Index: []\n"
          ],
          "name": "stdout"
        }
      ]
    },
    {
      "cell_type": "code",
      "metadata": {
        "id": "6a10e05d",
        "outputId": "28cd5570-09f9-41e8-9489-d7fdbd921c4a"
      },
      "source": [
        "# DataFrame from lists\n",
        "list = [22,33,44,55,66]\n",
        "df = pd.DataFrame(list)\n",
        "print('data frame from list',df,sep='\\n')"
      ],
      "id": "6a10e05d",
      "execution_count": null,
      "outputs": [
        {
          "output_type": "stream",
          "text": [
            "data frame from list\n",
            "    0\n",
            "0  22\n",
            "1  33\n",
            "2  44\n",
            "3  55\n",
            "4  66\n"
          ],
          "name": "stdout"
        }
      ]
    },
    {
      "cell_type": "code",
      "metadata": {
        "id": "a5e40793",
        "outputId": "41e35a2c-2c39-4641-f09c-008dc482b5f1"
      },
      "source": [
        "# import dataframe directly\n",
        "from pandas import DataFrame as df\n",
        "\n",
        "# DataFrame from dict of ndarray / list\n",
        "dict = {'Name':['vasanth','umesh','bhai'],'age':[22,21,21],'rollno':[179,174,173]}\n",
        "df_dict = df(dict)\n",
        "print('data frame from dict',df_dict,sep='\\n')\n",
        "print('-------------------------------------')\n",
        "\n",
        "# creating an indexed data frame\n",
        "df_dict_index =  df(dict,index=['rank3','rank2','rank1'])\n",
        "print('data frame with index from dict',df_dict_index,sep='\\n')"
      ],
      "id": "a5e40793",
      "execution_count": null,
      "outputs": [
        {
          "output_type": "stream",
          "text": [
            "data frame from dict\n",
            "      Name  age  rollno\n",
            "0  vasanth   22     179\n",
            "1    umesh   21     174\n",
            "2     bhai   21     173\n",
            "-------------------------------------\n",
            "data frame with index from dict\n",
            "          Name  age  rollno\n",
            "rank3  vasanth   22     179\n",
            "rank2    umesh   21     174\n",
            "rank1     bhai   21     173\n"
          ],
          "name": "stdout"
        }
      ]
    },
    {
      "cell_type": "code",
      "metadata": {
        "id": "069e0818",
        "outputId": "bbceb508-48e9-4e0e-cfc9-7ea9fcea7033"
      },
      "source": [
        "# data frame from a list of dict\n",
        "from pandas import Series as ss\n",
        "ls_dict = [{'a':2,'b':3,'c':8},{'a':2,'b':3,'c':8},{'a':2,'b':3,'c':8}]\n",
        "df_ls_dict = df(ls_dict) # in df keys act as colum labels\n",
        "print('data frame from list of dict', df_ls_dict, sep='\\n')\n",
        "print(\"---------------------------------------------------\")\n",
        " # whereas in series they act as indexes\n",
        "series_ls_dict = ss(ls_dict[0])\n",
        "print('series from dict',series_ls_dict,sep='\\n')"
      ],
      "id": "069e0818",
      "execution_count": null,
      "outputs": [
        {
          "output_type": "stream",
          "text": [
            "data frame from list of dict\n",
            "   a  b  c\n",
            "0  2  3  8\n",
            "1  2  3  8\n",
            "2  2  3  8\n",
            "---------------------------------------------------\n",
            "series from dict\n",
            "a    2\n",
            "b    3\n",
            "c    8\n",
            "dtype: int64\n"
          ],
          "name": "stdout"
        }
      ]
    },
    {
      "cell_type": "code",
      "metadata": {
        "id": "a20baf03",
        "outputId": "51c01a51-e156-46b9-8f0f-66d6c4c06bad"
      },
      "source": [
        "# removing a value from list dict first row\n",
        "del ls_dict[0]['c']\n",
        "\n",
        "df_ls_dict_naN = df(ls_dict)\n",
        "print('data frames with a missing row element', df_ls_dict_naN,sep='\\n')"
      ],
      "id": "a20baf03",
      "execution_count": null,
      "outputs": [
        {
          "output_type": "stream",
          "text": [
            "data frames with a missing row element\n",
            "   a  b    c\n",
            "0  2  3  NaN\n",
            "1  2  3  8.0\n",
            "2  2  3  8.0\n"
          ],
          "name": "stdout"
        }
      ]
    },
    {
      "cell_type": "code",
      "metadata": {
        "id": "ed181efe",
        "outputId": "7cfabd23-f30d-4284-8546-ad07d3134bce"
      },
      "source": [
        "data = [{'a': 1, 'b': 2},{'a': 5, 'b': 10, 'c': 20}]\n",
        "\n",
        "#With two column indices, values same as dictionary keys\n",
        "df_ls_dict_index= df(data, index=[1,2],columns=['a','b'])\n",
        "print('data frame from list of dict with two col',df_ls_dict_index,sep='\\n')\n",
        "\n",
        "# With two column indices with one index with other name\n",
        "df_ls_dict_index_custom_col = df(data,index=[1,2],columns=['a2','b'])\n",
        "print('data frame from list of dict with one diff col', df_ls_dict_index_custom_col,sep='\\n')\n",
        "\n",
        "'''\n",
        "    Note − Observe, df2 DataFrame is created with a column index other than the dictionary key; thus, appended the NaN’s in place. Whereas, df1 is created with column indices same as dictionary keys, so NaN’s appended.\n",
        "'''"
      ],
      "id": "ed181efe",
      "execution_count": null,
      "outputs": [
        {
          "output_type": "stream",
          "text": [
            "data frame from list of dict with two col\n",
            "   a   b\n",
            "1  1   2\n",
            "2  5  10\n",
            "data frame from list of dict with one diff col\n",
            "   a2   b\n",
            "1 NaN   2\n",
            "2 NaN  10\n"
          ],
          "name": "stdout"
        },
        {
          "output_type": "execute_result",
          "data": {
            "text/plain": [
              "'\\n    Note − Observe, df2 DataFrame is created with a column index other than the dictionary key; thus, appended the NaN’s in place. Whereas, df1 is created with column indices same as dictionary keys, so NaN’s appended.\\n'"
            ]
          },
          "metadata": {
            "tags": []
          },
          "execution_count": 64
        }
      ]
    },
    {
      "cell_type": "markdown",
      "metadata": {
        "id": "10d91f60"
      },
      "source": [
        "## Create a DataFrame from Dict of Series\n",
        "> Dictionary of Series can be passed to form a DataFrame. The resultant index is the union of all the series indexes passed."
      ],
      "id": "10d91f60"
    },
    {
      "cell_type": "code",
      "metadata": {
        "id": "ad172e0d",
        "outputId": "e8eb873a-4cb4-4ef5-e380-e4f76ca35cec"
      },
      "source": [
        "# Dictionary of Series can be passed to form a DataFrame. The resultant index is the union of all the series indexes passed.\n",
        "\n",
        "dict_series = {'one':ss([1,2,3],index=['a','b','c']), 'two':ss([1,4],index=['a','b'])}\n",
        "df_dict_series = df(dict_series)\n",
        "print('data frame from dict of series',df_dict_series,sep='\\n')\n",
        "\n",
        "'''\n",
        "    Observe, for the series one, there is no label ‘d’ passed, but in the result, for the d label, NaN is appended with NaN.\n",
        "\n",
        "Let us now understand column selection, addition, and deletion through examples.\n",
        "'''"
      ],
      "id": "ad172e0d",
      "execution_count": null,
      "outputs": [
        {
          "output_type": "stream",
          "text": [
            "data frame from dict of series\n",
            "   one  two\n",
            "a    1  1.0\n",
            "b    2  4.0\n",
            "c    3  NaN\n"
          ],
          "name": "stdout"
        }
      ]
    },
    {
      "cell_type": "code",
      "metadata": {
        "id": "f2c1eca9",
        "outputId": "54031446-5247-4bb8-8101-bcb4fdd1afed"
      },
      "source": [
        "# Column Selection\n",
        "# We will understand this by selecting a column from the DataFrame.\n",
        "\n",
        "data = {'one':ss([1,2,3]),'two':ss([4,5,6])}\n",
        "df_cols = df(data)\n",
        "print('data frame ',df_cols,'data frame first col ',df_cols['one'],sep='\\n')"
      ],
      "id": "f2c1eca9",
      "execution_count": null,
      "outputs": [
        {
          "output_type": "stream",
          "text": [
            "data frame \n",
            "   one  two\n",
            "0    1    4\n",
            "1    2    5\n",
            "2    3    6\n",
            "data frame first col \n",
            "0    1\n",
            "1    2\n",
            "2    3\n",
            "Name: one, dtype: int64\n"
          ],
          "name": "stdout"
        }
      ]
    },
    {
      "cell_type": "code",
      "metadata": {
        "id": "cd0d3727",
        "outputId": "a9527411-bec4-4386-8a9e-1a15fc8056da"
      },
      "source": [
        "# Column Addition\n",
        "# We will understand this by adding a new column to an existing data frame.\n",
        "\n",
        "dict_series = {'one':ss([1.0,2.8,3.3]),'two':ss(['a','b','c'])}\n",
        "df_dict_series = df(dict_series)\n",
        "print('dict from series', df_dict_series,sep='\\n')\n",
        "\n",
        "print('-----------------------------------------------------------')\n",
        "\n",
        "# adding columns to dict series\n",
        "df_dict_series['three']= ss([2.3,4.5,0.9])\n",
        "print('dict from series with new col added',df_dict_series,sep='\\n')\n",
        "\n",
        "print('----------------------------------------------------------------')\n",
        "\n",
        "# adding new columns from existing columns\n",
        "df_dict_series['four'] = df_dict_series['one']+df_dict_series['three']\n",
        "print('dict from series with new cols from existing cols',df_dict_series,sep='\\n')\n",
        "print('----------------------------------------------------------------')\n",
        "\n",
        "df_dict_series['five'] =  df_dict_series['one']*df_dict_series['three']\n",
        "print('dict from series with new cols from existing cols',df_dict_series,sep='\\n')\n",
        "print('----------------------------------------------------------------')\n",
        "\n",
        "def breakline():\n",
        "    print('---------------------------------------------------------------')\n"
      ],
      "id": "cd0d3727",
      "execution_count": null,
      "outputs": [
        {
          "output_type": "error",
          "ename": "NameError",
          "evalue": "name 'ss' is not defined",
          "traceback": [
            "\u001b[1;31m---------------------------------------------------------------------------\u001b[0m",
            "\u001b[1;31mNameError\u001b[0m                                 Traceback (most recent call last)",
            "\u001b[1;32m<ipython-input-10-13a54f55e4a4>\u001b[0m in \u001b[0;36m<module>\u001b[1;34m\u001b[0m\n\u001b[0;32m      2\u001b[0m \u001b[1;31m# We will understand this by adding a new column to an existing data frame.\u001b[0m\u001b[1;33m\u001b[0m\u001b[1;33m\u001b[0m\u001b[1;33m\u001b[0m\u001b[0m\n\u001b[0;32m      3\u001b[0m \u001b[1;33m\u001b[0m\u001b[0m\n\u001b[1;32m----> 4\u001b[1;33m \u001b[0mdict_series\u001b[0m \u001b[1;33m=\u001b[0m \u001b[1;33m{\u001b[0m\u001b[1;34m'one'\u001b[0m\u001b[1;33m:\u001b[0m\u001b[0mss\u001b[0m\u001b[1;33m(\u001b[0m\u001b[1;33m[\u001b[0m\u001b[1;36m1.0\u001b[0m\u001b[1;33m,\u001b[0m\u001b[1;36m2.8\u001b[0m\u001b[1;33m,\u001b[0m\u001b[1;36m3.3\u001b[0m\u001b[1;33m]\u001b[0m\u001b[1;33m)\u001b[0m\u001b[1;33m,\u001b[0m\u001b[1;34m'two'\u001b[0m\u001b[1;33m:\u001b[0m\u001b[0mss\u001b[0m\u001b[1;33m(\u001b[0m\u001b[1;33m[\u001b[0m\u001b[1;34m'a'\u001b[0m\u001b[1;33m,\u001b[0m\u001b[1;34m'b'\u001b[0m\u001b[1;33m,\u001b[0m\u001b[1;34m'c'\u001b[0m\u001b[1;33m]\u001b[0m\u001b[1;33m)\u001b[0m\u001b[1;33m}\u001b[0m\u001b[1;33m\u001b[0m\u001b[1;33m\u001b[0m\u001b[0m\n\u001b[0m\u001b[0;32m      5\u001b[0m \u001b[0mdf_dict_series\u001b[0m \u001b[1;33m=\u001b[0m \u001b[0mdf\u001b[0m\u001b[1;33m(\u001b[0m\u001b[0mdict_series\u001b[0m\u001b[1;33m)\u001b[0m\u001b[1;33m\u001b[0m\u001b[1;33m\u001b[0m\u001b[0m\n\u001b[0;32m      6\u001b[0m \u001b[0mprint\u001b[0m\u001b[1;33m(\u001b[0m\u001b[1;34m'dict from series'\u001b[0m\u001b[1;33m,\u001b[0m \u001b[0mdf_dict_series\u001b[0m\u001b[1;33m,\u001b[0m\u001b[0msep\u001b[0m\u001b[1;33m=\u001b[0m\u001b[1;34m'\\n'\u001b[0m\u001b[1;33m)\u001b[0m\u001b[1;33m\u001b[0m\u001b[1;33m\u001b[0m\u001b[0m\n",
            "\u001b[1;31mNameError\u001b[0m: name 'ss' is not defined"
          ]
        }
      ]
    },
    {
      "cell_type": "code",
      "metadata": {
        "id": "53190bc9",
        "outputId": "ec0fbbcc-edd2-4708-dbdd-32fee745fe98"
      },
      "source": [
        "# Column Deletion\n",
        "# Columns can be deleted or popped; let us take an example to understand how.\n",
        "\n",
        "dict_ss_del = {'one':ss([1,2,3]),'two':ss(['a','b','c']),'three':ss([2.0,3.4,4.5])}\n",
        "df_ss_del = df(dict_ss_del)\n",
        "print('data frame series delete',df_ss_del,sep='\\n')\n",
        "breakline()\n",
        "\n",
        "# using del function\n",
        "del df_ss_del['one']\n",
        "print('data frame with col one removed',df_ss_del,sep='\\n')\n",
        "breakline()\n",
        "\n",
        "# using pop function\n",
        "df_ss_del.pop('three')\n",
        "print('data frame with col three removed',df_ss_del,sep='\\n')\n",
        "breakline()"
      ],
      "id": "53190bc9",
      "execution_count": null,
      "outputs": [
        {
          "output_type": "stream",
          "text": [
            "data frame series delete\n",
            "   one two  three\n",
            "0    1   a    2.0\n",
            "1    2   b    3.4\n",
            "2    3   c    4.5\n",
            "---------------------------------------------------------------\n",
            "data frame with col one removed\n",
            "  two  three\n",
            "0   a    2.0\n",
            "1   b    3.4\n",
            "2   c    4.5\n",
            "---------------------------------------------------------------\n",
            "data frame with col three removed\n",
            "  two\n",
            "0   a\n",
            "1   b\n",
            "2   c\n",
            "---------------------------------------------------------------\n"
          ],
          "name": "stdout"
        }
      ]
    },
    {
      "cell_type": "markdown",
      "metadata": {
        "id": "8ef52be7"
      },
      "source": [
        "## Row Selection, Addition, and Deletion\n",
        "> We will now understand row selection, addition and deletion through examples. Let us begin with the concept of selection.\n",
        "\n",
        "### Selection by Label\n",
        "> Rows can be selected by passing row label to a loc function."
      ],
      "id": "8ef52be7"
    },
    {
      "cell_type": "code",
      "metadata": {
        "id": "17a334b5",
        "outputId": "361f749b-3a30-4918-838b-d710a4e391c2"
      },
      "source": [
        "#bk for break line\n",
        "bk = breakline\n",
        " \n",
        "dict_rows_select = {'one':ss([1,2,3],index=['a','b','c']),'two':ss([1,2,3,4],index=['a','b','c','d'])}\n",
        "df_dict_row_select = df(dict_rows_select)\n",
        "print('data frame from dict with row selection',df_dict_row_select,sep='\\n')\n",
        "bk()\n",
        "\n",
        "# using loc function\n",
        "print('data frame row one',df_dict_row_select.loc['c'],sep='\\n')\n",
        "bk()\n",
        "# The result is a series with labels as column names of the DataFrame. And, the Name of the series is the label with which it is retrieved.\n",
        "\n",
        "\n",
        "'''\n",
        "Selection by integer location\n",
        "Rows can be selected by passing integer location to an iloc function.'''\n",
        "\n",
        "# using iloc function (index location)\n",
        "print('data frame row one iloc',df_dict_row_select.iloc[0],sep='\\n')\n",
        "bk()\n",
        "\n"
      ],
      "id": "17a334b5",
      "execution_count": null,
      "outputs": [
        {
          "output_type": "stream",
          "text": [
            "data frame from dict with row selection\n",
            "   one  two\n",
            "a  1.0    1\n",
            "b  2.0    2\n",
            "c  3.0    3\n",
            "d  NaN    4\n",
            "---------------------------------------------------------------\n",
            "data frame row one\n",
            "one    3.0\n",
            "two    3.0\n",
            "Name: c, dtype: float64\n",
            "---------------------------------------------------------------\n",
            "data frame row one iloc\n",
            "one    1.0\n",
            "two    1.0\n",
            "Name: a, dtype: float64\n",
            "---------------------------------------------------------------\n"
          ],
          "name": "stdout"
        }
      ]
    },
    {
      "cell_type": "code",
      "metadata": {
        "id": "92ada3c1",
        "outputId": "9af79ea5-a9a9-466c-f3ff-f2543c1f9e9f"
      },
      "source": [
        "# Slice Rows\n",
        "# Multiple rows can be selected using ‘ : ’ operator.\n",
        "\n",
        "dict_multi_rows = {'one':ss([1,2,3],index=[1,2,3]),'two':ss([1.0,2.0,3.0,4.0],index=[1,2,3,4]),'three':ss(['1','2','3'],index=[1,2,3])}\n",
        "df_multi_rows = df(dict_multi_rows)\n",
        "\n",
        "print('data frame with multiple rows',df_multi_rows,sep='\\n')\n",
        "bk()\n",
        "\n",
        "print('data frame with selected rows',df_multi_rows[1:3],sep='\\n')\n",
        "bk()"
      ],
      "id": "92ada3c1",
      "execution_count": null,
      "outputs": [
        {
          "output_type": "stream",
          "text": [
            "data frame with multiple rows\n",
            "   one  two three\n",
            "1  1.0  1.0     1\n",
            "2  2.0  2.0     2\n",
            "3  3.0  3.0     3\n",
            "4  NaN  4.0   NaN\n",
            "---------------------------------------------------------------\n",
            "data frame with selected rows\n",
            "   one  two three\n",
            "2  2.0  2.0     2\n",
            "3  3.0  3.0     3\n",
            "---------------------------------------------------------------\n"
          ],
          "name": "stdout"
        }
      ]
    },
    {
      "cell_type": "code",
      "metadata": {
        "id": "c953a674",
        "outputId": "30d98a68-1ddd-44f8-8f0d-53cd231bd532"
      },
      "source": [
        "# Addition of Rows\n",
        "# Add new rows to a DataFrame using the append function. \n",
        "# This function will append the rows at the end.\n",
        "\n",
        "df_ls_add1 = df([[1,2],[4,5],[7,8]],columns = ['a','b'],index=[0,1,2],dtype='float')\n",
        "df_ls_add2 = df([[22,33],[44,55],[66,77]],columns = ['a','b'],index=[3,4,5],dtype='float')\n",
        "\n",
        "df_ls_add1 = df(df_ls_add1.append(df_ls_add2), index=[1,2,3,4,5,6])\n",
        "print('data frame from list with add',df_ls_add1,sep='\\n')\n",
        "bk()\n"
      ],
      "id": "c953a674",
      "execution_count": null,
      "outputs": [
        {
          "output_type": "stream",
          "text": [
            "data frame from list with add\n",
            "      a     b\n",
            "1   4.0   5.0\n",
            "2   7.0   8.0\n",
            "3  22.0  33.0\n",
            "4  44.0  55.0\n",
            "5  66.0  77.0\n",
            "6   NaN   NaN\n",
            "---------------------------------------------------------------\n"
          ],
          "name": "stdout"
        }
      ]
    },
    {
      "cell_type": "markdown",
      "metadata": {
        "id": "edcd637a"
      },
      "source": [
        "## Deletion of Rows\n",
        "> Use index label to delete or drop rows from a DataFrame. If label is duplicated, then multiple rows will be dropped.\n",
        "\n",
        "> If you observe, in the above example, the labels are duplicate. Let us drop a label and will see how many rows will get dropped.\n",
        "\n"
      ],
      "id": "edcd637a"
    },
    {
      "cell_type": "code",
      "metadata": {
        "id": "0648860d",
        "outputId": "7a8ddcc9-b48d-4af1-b0d6-38742daf699b"
      },
      "source": [
        "df1 = df([[1,2],[3,4]], index=[11,'a'])\n",
        "df2 = df([[5,6][7,8]], index = ['b',22])\n",
        "\n",
        "df1 = df1.append(df2)\n",
        "       \n",
        "print('data frame with append',df1,sep='\\n')       "
      ],
      "id": "0648860d",
      "execution_count": null,
      "outputs": [
        {
          "output_type": "stream",
          "text": [
            "<>:2: SyntaxWarning: list indices must be integers or slices, not tuple; perhaps you missed a comma?\n",
            "<>:2: SyntaxWarning: list indices must be integers or slices, not tuple; perhaps you missed a comma?\n",
            "<ipython-input-122-909c5344c3fe>:2: SyntaxWarning: list indices must be integers or slices, not tuple; perhaps you missed a comma?\n",
            "  df2 = df([[5,6][7,8]], index = ['b',22])\n"
          ],
          "name": "stderr"
        },
        {
          "output_type": "error",
          "ename": "TypeError",
          "evalue": "list indices must be integers or slices, not tuple",
          "traceback": [
            "\u001b[1;31m---------------------------------------------------------------------------\u001b[0m",
            "\u001b[1;31mTypeError\u001b[0m                                 Traceback (most recent call last)",
            "\u001b[1;32m<ipython-input-122-909c5344c3fe>\u001b[0m in \u001b[0;36m<module>\u001b[1;34m\u001b[0m\n\u001b[0;32m      1\u001b[0m \u001b[0mdf1\u001b[0m \u001b[1;33m=\u001b[0m \u001b[0mdf\u001b[0m\u001b[1;33m(\u001b[0m\u001b[1;33m[\u001b[0m\u001b[1;33m[\u001b[0m\u001b[1;36m1\u001b[0m\u001b[1;33m,\u001b[0m\u001b[1;36m2\u001b[0m\u001b[1;33m]\u001b[0m\u001b[1;33m,\u001b[0m\u001b[1;33m[\u001b[0m\u001b[1;36m3\u001b[0m\u001b[1;33m,\u001b[0m\u001b[1;36m4\u001b[0m\u001b[1;33m]\u001b[0m\u001b[1;33m]\u001b[0m\u001b[1;33m,\u001b[0m \u001b[0mindex\u001b[0m\u001b[1;33m=\u001b[0m\u001b[1;33m[\u001b[0m\u001b[1;36m11\u001b[0m\u001b[1;33m,\u001b[0m\u001b[1;34m'a'\u001b[0m\u001b[1;33m]\u001b[0m\u001b[1;33m)\u001b[0m\u001b[1;33m\u001b[0m\u001b[1;33m\u001b[0m\u001b[0m\n\u001b[1;32m----> 2\u001b[1;33m \u001b[0mdf2\u001b[0m \u001b[1;33m=\u001b[0m \u001b[0mdf\u001b[0m\u001b[1;33m(\u001b[0m\u001b[1;33m[\u001b[0m\u001b[1;33m[\u001b[0m\u001b[1;36m5\u001b[0m\u001b[1;33m,\u001b[0m\u001b[1;36m6\u001b[0m\u001b[1;33m]\u001b[0m\u001b[1;33m[\u001b[0m\u001b[1;36m7\u001b[0m\u001b[1;33m,\u001b[0m\u001b[1;36m8\u001b[0m\u001b[1;33m]\u001b[0m\u001b[1;33m]\u001b[0m\u001b[1;33m,\u001b[0m \u001b[0mindex\u001b[0m \u001b[1;33m=\u001b[0m \u001b[1;33m[\u001b[0m\u001b[1;34m'b'\u001b[0m\u001b[1;33m,\u001b[0m\u001b[1;36m22\u001b[0m\u001b[1;33m]\u001b[0m\u001b[1;33m)\u001b[0m\u001b[1;33m\u001b[0m\u001b[1;33m\u001b[0m\u001b[0m\n\u001b[0m\u001b[0;32m      3\u001b[0m \u001b[1;33m\u001b[0m\u001b[0m\n\u001b[0;32m      4\u001b[0m \u001b[0mdf1\u001b[0m \u001b[1;33m=\u001b[0m \u001b[0mdf1\u001b[0m\u001b[1;33m.\u001b[0m\u001b[0mappend\u001b[0m\u001b[1;33m(\u001b[0m\u001b[0mdf2\u001b[0m\u001b[1;33m)\u001b[0m\u001b[1;33m\u001b[0m\u001b[1;33m\u001b[0m\u001b[0m\n\u001b[0;32m      5\u001b[0m \u001b[1;33m\u001b[0m\u001b[0m\n",
            "\u001b[1;31mTypeError\u001b[0m: list indices must be integers or slices, not tuple"
          ]
        }
      ]
    },
    {
      "cell_type": "code",
      "metadata": {
        "scrolled": true,
        "id": "6a0fd77f",
        "outputId": "44787d83-178e-4071-96ac-251b919eee68"
      },
      "source": [
        "df1 = df([[1,2],[3,4]], index=[11,'a'], columns = ['a','b'])\n",
        "df2 = df([[5,6],[7,8]], index = ['b',22], columns = ['a','b'])\n",
        "\n",
        "df1 = (df1.append(df2))\n",
        "       \n",
        "print('data frame with append',df1,sep='\\n')    \n",
        "bk()\n",
        "\n",
        "# In the above example, two rows were dropped because those two contain the same label 0.\n"
      ],
      "id": "6a0fd77f",
      "execution_count": null,
      "outputs": [
        {
          "output_type": "stream",
          "text": [
            "data frame with append\n",
            "    a  b\n",
            "11  1  2\n",
            "a   3  4\n",
            "b   5  6\n",
            "22  7  8\n",
            "---------------------------------------------------------------\n"
          ],
          "name": "stdout"
        }
      ]
    },
    {
      "cell_type": "markdown",
      "metadata": {
        "id": "ddc40ccf"
      },
      "source": [
        "## Python Pandas - Panel\n",
        "> A panel is a 3D container of data. The term Panel data is derived from econometrics and is partially responsible for the name pandas − pan(el)-da(ta)-s.\n",
        "\n",
        "> The names for the 3 axes are intended to give some semantic meaning to describing operations involving panel data. They are −\n",
        "\n",
        "- items − axis 0, each item corresponds to a DataFrame contained inside.\n",
        "\n",
        "- major_axis − axis 1, it is the index (rows) of each of the DataFrames.\n",
        "\n",
        "- minor_axis − axis 2, it is the columns of each of the DataFrames."
      ],
      "id": "ddc40ccf"
    },
    {
      "cell_type": "markdown",
      "metadata": {
        "id": "08617799"
      },
      "source": [
        "## pandas.Panel()\n",
        "> A Panel can be created using the following constructor −\n",
        "\n",
        "```pandas.Panel(data, items, major_axis, minor_axis, dtype, copy) ```\n",
        "\n",
        "The parameters of the constructor are as follows −\n",
        "\n",
        "| Parameter | Description |\n",
        "|-----------|-------------|\n",
        "|data|\tData takes various forms like ndarray, series, map,lists, dict, constants and also another DataFrame|\n",
        "|items|\taxis=0|\n",
        "|major_axis|\taxis=1|\n",
        "|minor_axis|\taxis=2|\n",
        "|dtype|\tData type of each column|\n",
        "|copy|\tCopy data. Default, false|\n"
      ],
      "id": "08617799"
    },
    {
      "cell_type": "code",
      "metadata": {
        "id": "f68615d8",
        "outputId": "5b30af77-43e5-4cab-901e-183ec918da75"
      },
      "source": [
        "# Create Panel\n",
        "# A Panel can be created using multiple ways like −\n",
        "\n",
        "# From ndarrays\n",
        "# From dict of DataFrames\n",
        "\n",
        "import pandas\n",
        "import numpy as np\n",
        "data = np.random.rand(2,4,5)\n",
        "print(data)\n",
        "panel = pandas.Panel(data)\n",
        "print('panel from 3 axis ndarray', panel, sep='\\n')\n"
      ],
      "id": "f68615d8",
      "execution_count": null,
      "outputs": [
        {
          "output_type": "stream",
          "text": [
            "[[[0.87015369 0.30327016 0.60892351 0.07105187 0.81906598]\n",
            "  [0.13891841 0.57972525 0.20178706 0.13886965 0.34882085]\n",
            "  [0.11482248 0.0906774  0.33119132 0.66832262 0.84413523]\n",
            "  [0.60697486 0.86967492 0.34240953 0.08220014 0.11657713]]\n",
            "\n",
            " [[0.04430067 0.27413261 0.65057802 0.77813511 0.2634327 ]\n",
            "  [0.59046382 0.4127382  0.93102042 0.26799935 0.64196773]\n",
            "  [0.60242456 0.48114038 0.19423234 0.2226016  0.52412405]\n",
            "  [0.30439317 0.85611811 0.75740782 0.84032953 0.06580974]]]\n"
          ],
          "name": "stdout"
        },
        {
          "output_type": "stream",
          "text": [
            "<ipython-input-5-b0a05aecb483>:11: FutureWarning: The Panel class is removed from pandas. Accessing it from the top-level namespace will also be removed in the next version\n",
            "  panel = pandas.Panel(data)\n"
          ],
          "name": "stderr"
        },
        {
          "output_type": "error",
          "ename": "TypeError",
          "evalue": "Panel() takes no arguments",
          "traceback": [
            "\u001b[1;31m---------------------------------------------------------------------------\u001b[0m",
            "\u001b[1;31mTypeError\u001b[0m                                 Traceback (most recent call last)",
            "\u001b[1;32m<ipython-input-5-b0a05aecb483>\u001b[0m in \u001b[0;36m<module>\u001b[1;34m\u001b[0m\n\u001b[0;32m      9\u001b[0m \u001b[0mdata\u001b[0m \u001b[1;33m=\u001b[0m \u001b[0mnp\u001b[0m\u001b[1;33m.\u001b[0m\u001b[0mrandom\u001b[0m\u001b[1;33m.\u001b[0m\u001b[0mrand\u001b[0m\u001b[1;33m(\u001b[0m\u001b[1;36m2\u001b[0m\u001b[1;33m,\u001b[0m\u001b[1;36m4\u001b[0m\u001b[1;33m,\u001b[0m\u001b[1;36m5\u001b[0m\u001b[1;33m)\u001b[0m\u001b[1;33m\u001b[0m\u001b[1;33m\u001b[0m\u001b[0m\n\u001b[0;32m     10\u001b[0m \u001b[0mprint\u001b[0m\u001b[1;33m(\u001b[0m\u001b[0mdata\u001b[0m\u001b[1;33m)\u001b[0m\u001b[1;33m\u001b[0m\u001b[1;33m\u001b[0m\u001b[0m\n\u001b[1;32m---> 11\u001b[1;33m \u001b[0mpanel\u001b[0m \u001b[1;33m=\u001b[0m \u001b[0mpandas\u001b[0m\u001b[1;33m.\u001b[0m\u001b[0mPanel\u001b[0m\u001b[1;33m(\u001b[0m\u001b[0mdata\u001b[0m\u001b[1;33m)\u001b[0m\u001b[1;33m\u001b[0m\u001b[1;33m\u001b[0m\u001b[0m\n\u001b[0m\u001b[0;32m     12\u001b[0m \u001b[0mprint\u001b[0m\u001b[1;33m(\u001b[0m\u001b[1;34m'panel from 3 axis ndarray'\u001b[0m\u001b[1;33m,\u001b[0m \u001b[0mpanel\u001b[0m\u001b[1;33m,\u001b[0m \u001b[0msep\u001b[0m\u001b[1;33m=\u001b[0m\u001b[1;34m'\\n'\u001b[0m\u001b[1;33m)\u001b[0m\u001b[1;33m\u001b[0m\u001b[1;33m\u001b[0m\u001b[0m\n",
            "\u001b[1;31mTypeError\u001b[0m: Panel() takes no arguments"
          ]
        }
      ]
    },
    {
      "cell_type": "code",
      "metadata": {
        "id": "c6d0d0ba",
        "outputId": "238eba3c-319a-4772-e65a-08855a8d3d71"
      },
      "source": [
        "import pandas\n",
        "print(pandas.panel())"
      ],
      "id": "c6d0d0ba",
      "execution_count": null,
      "outputs": [
        {
          "output_type": "error",
          "ename": "AttributeError",
          "evalue": "module 'pandas' has no attribute 'panel'",
          "traceback": [
            "\u001b[1;31m---------------------------------------------------------------------------\u001b[0m",
            "\u001b[1;31mAttributeError\u001b[0m                            Traceback (most recent call last)",
            "\u001b[1;32m<ipython-input-1-b113b769f837>\u001b[0m in \u001b[0;36m<module>\u001b[1;34m\u001b[0m\n\u001b[0;32m      1\u001b[0m \u001b[1;32mimport\u001b[0m \u001b[0mpandas\u001b[0m\u001b[1;33m\u001b[0m\u001b[1;33m\u001b[0m\u001b[0m\n\u001b[1;32m----> 2\u001b[1;33m \u001b[0mprint\u001b[0m\u001b[1;33m(\u001b[0m\u001b[0mpandas\u001b[0m\u001b[1;33m.\u001b[0m\u001b[0mpanel\u001b[0m\u001b[1;33m(\u001b[0m\u001b[1;33m)\u001b[0m\u001b[1;33m)\u001b[0m\u001b[1;33m\u001b[0m\u001b[1;33m\u001b[0m\u001b[0m\n\u001b[0m",
            "\u001b[1;32mc:\\users\\vasi\\appdata\\local\\programs\\python\\python39\\lib\\site-packages\\pandas\\__init__.py\u001b[0m in \u001b[0;36m__getattr__\u001b[1;34m(name)\u001b[0m\n\u001b[0;32m    256\u001b[0m             \u001b[1;32mreturn\u001b[0m \u001b[0m_SparseArray\u001b[0m\u001b[1;33m\u001b[0m\u001b[1;33m\u001b[0m\u001b[0m\n\u001b[0;32m    257\u001b[0m \u001b[1;33m\u001b[0m\u001b[0m\n\u001b[1;32m--> 258\u001b[1;33m         \u001b[1;32mraise\u001b[0m \u001b[0mAttributeError\u001b[0m\u001b[1;33m(\u001b[0m\u001b[1;34mf\"module 'pandas' has no attribute '{name}'\"\u001b[0m\u001b[1;33m)\u001b[0m\u001b[1;33m\u001b[0m\u001b[1;33m\u001b[0m\u001b[0m\n\u001b[0m\u001b[0;32m    259\u001b[0m \u001b[1;33m\u001b[0m\u001b[0m\n\u001b[0;32m    260\u001b[0m \u001b[1;33m\u001b[0m\u001b[0m\n",
            "\u001b[1;31mAttributeError\u001b[0m: module 'pandas' has no attribute 'panel'"
          ]
        }
      ]
    },
    {
      "cell_type": "markdown",
      "metadata": {
        "id": "543a7027"
      },
      "source": [
        "## Series Basic Functionality\n",
        "\n",
        "\n",
        "|Sr.No.|\tAttribute or Method & Description|\n",
        "|------|-------------------------------------|\n",
        "|1|\taxes Returns a list of the row axis labels|\n",
        "|2|\t dtype Returns the dtype of the object.|\n",
        "|3|\tempty Returns True if series is empty.|\n",
        "|4|\tndim Returns the number of dimensions of the underlying data, by definition |\n",
        "|5|\tsize Returns the number of elements in the underlying data.|\n",
        "|6 |values Returns the Series as ndarray.|\n",
        "|7\t|head() Returns the first n rows.|\n",
        "|8\t|tail() Returns the last n rows.|"
      ],
      "id": "543a7027"
    },
    {
      "cell_type": "code",
      "metadata": {
        "id": "c19a26c4",
        "outputId": "1f1a46e2-b587-464a-cd63-543bb398d0a5"
      },
      "source": [
        "# pandas and numpy as np and pd\n",
        "\n",
        "def breakline():\n",
        "    print('---------------------------------------------------------------')\n",
        "\n",
        "import pandas as pd\n",
        "data = pd.Series(np.random.randn(4)) # nd array of 4 rand int\n",
        "print('series from random nd array',data,sep='\\n')\n",
        "breakline()\n",
        "\n",
        "print('data axes values ->',data.axes,sep='\\n')\n",
        "breakline()\n",
        "#The above result is a compact format of a list of values from 0 to 5, i.e., [0,1,2,3,4].\n",
        "\n",
        "\n",
        "print('data value is empty', data.empty)"
      ],
      "id": "c19a26c4",
      "execution_count": null,
      "outputs": [
        {
          "output_type": "stream",
          "text": [
            "series from random nd array\n",
            "0   -0.637833\n",
            "1    1.432949\n",
            "2   -0.218300\n",
            "3    0.544254\n",
            "dtype: float64\n",
            "---------------------------------------------------------------\n",
            "data axes values ->\n",
            "[RangeIndex(start=0, stop=4, step=1)]\n",
            "---------------------------------------------------------------\n",
            "data value is empty False\n"
          ],
          "name": "stdout"
        }
      ]
    },
    {
      "cell_type": "code",
      "metadata": {
        "id": "59ce4215",
        "outputId": "9f890c74-f808-4552-8bd7-f3f6b76ee413"
      },
      "source": [
        "# Returns the number of dimensions of the object. \n",
        "# By definition, a Series is a 1D data structure, so it returns\n",
        "\n",
        "series_ndim= pd.Series(np.random.randn(4))\n",
        "print('series ndim value = ',series_ndim.ndim)\n",
        "breakline()\n",
        "\n",
        "series_size = pd.Series(np.random.randn(3))\n",
        "print('Series size = ',series_size.size)\n",
        "breakline()\n",
        "\n",
        "# Returns the actual data in the series as an array.\n",
        "series_value = pd.Series(np.random.randn(4))\n",
        "print('Series value = ',series_value.values)\n",
        "breakline()\n",
        "\n",
        "\n",
        "'''\n",
        "    To view a small sample of a Series or the DataFrame object, use the head() and the tail() methods.\n",
        "\n",
        " head() returns the first n rows(observe the index values). The default number of elements to display is five, but you may pass a custom number.\n",
        "\n",
        " tail() returns the last n rows(observe the index values). The default number of elements to display is five, but you may pass a custom number.\n",
        "\n",
        "'''\n",
        "\n",
        "series_head_fn = pd.Series(np.random.randn(6))\n",
        "series_tail_fn = pd.Series(np.random.randn(5))\n",
        "\n",
        "print('Series head funtion ', series_head_fn.head(2),sep='\\n')\n",
        "breakline()\n",
        "print('Series tail funtion ', series_head_fn.tail(2),sep='\\n')\n",
        "breakline()"
      ],
      "id": "59ce4215",
      "execution_count": null,
      "outputs": [
        {
          "output_type": "stream",
          "text": [
            "series ndim value =  1\n",
            "---------------------------------------------------------------\n",
            "Series size =  3\n",
            "---------------------------------------------------------------\n",
            "Series value =  [-0.00878432  0.93202479  0.37129011  1.40621339]\n",
            "---------------------------------------------------------------\n",
            "Series head funtion \n",
            "0    0.229041\n",
            "1   -1.028952\n",
            "dtype: float64\n",
            "---------------------------------------------------------------\n",
            "Series tail funtion \n",
            "4   -0.668416\n",
            "5   -0.988496\n",
            "dtype: float64\n",
            "---------------------------------------------------------------\n"
          ],
          "name": "stdout"
        }
      ]
    },
    {
      "cell_type": "markdown",
      "metadata": {
        "id": "6cb1c5d0"
      },
      "source": [
        "## DataFrame Basic Functionality\n",
        "> Let us now understand what DataFrame Basic Functionality is. The following tables lists down the important attributes or methods that help in DataFrame Basic Functionality.\n",
        "\n",
        "\n",
        "|Sr.No.|\tAttribute or Method & Description|\n",
        "|------|-------------------------------------|\n",
        "|0|T Transposes rows and columns.|\n",
        "|1|\taxes Returns a list of the row axis labels|\n",
        "|2|\t dtype Returns the dtype of the object.|\n",
        "|3|\tempty Returns True if series is empty.|\n",
        "|4|\tndim Returns the number of dimensions of the underlying data, by definition |\n",
        "|5|\tsize Returns the number of elements in the underlying data.|\n",
        "|6 |values Returns the Series as ndarray.|\n",
        "|7\t|head() Returns the first n rows.|\n",
        "|8\t|tail() Returns the last n rows.|"
      ],
      "id": "6cb1c5d0"
    },
    {
      "cell_type": "code",
      "metadata": {
        "id": "16c394aa",
        "outputId": "d86330cd-ffe3-431a-d503-f8c227394feb"
      },
      "source": [
        "from pandas import DataFrame as df\n",
        "\n",
        "# create a dictionary\n",
        "dict_series = {'Name':pd.Series(['vasi','rio','axel']),\n",
        "              'age':pd.Series([21,20,21]),\n",
        "              'rating':pd.Series([4.3,4.5,4.1])}\n",
        "df_dict= df(dict_series)\n",
        "print('data frame from dictionary series ', df_dict,sep='\\n')\n",
        "breakline()\n",
        "\n",
        "# T (Transpose)\n",
        "# Returns the transpose of the DataFrame. The rows and columns will interchange.\n",
        "print('data frame transposed',df_dict.T,sep='\\n')\n",
        "breakline()\n",
        "\n",
        "# axes\n",
        "# Returns the list of row axis labels and column axis labels.\n",
        "print('dat frame axes',df_dict.axes,sep='\\n')\n",
        "breakline()\n",
        "\n",
        "print('data frame axes converted to list',list(df_dict.axes),sep='n')\n",
        "breakline()\n",
        "\n",
        "#dtypes\n",
        "#Returns the data type of each column.\n",
        "print('data frame data type',df_dict.dtypes,sep='\\n')\n",
        "breakline()\n",
        "\n",
        "# empty\n",
        "# Returns the Boolean value saying whether the Object is empty or not; True indicates that the object is empty.\n",
        "print('data frame is empty = ',df_dict.empty)\n",
        "breakline()\n",
        "\n",
        "# ndim\n",
        "# Returns the number of dimensions of the object. By definition, DataFrame is a 2D object.\n",
        "print('data frame ndim(dimension) = ',df_dict.ndim)\n",
        "breakline()\n",
        "\n",
        "# shape\n",
        "# Returns a tuple representing the dimensionality of the DataFrame. Tuple (a,b), where a represents the number of rows and b represents the number of columns.\n",
        "print('data frame shape = ',df_dict.shape)\n",
        "breakline()\n",
        "\n",
        "#size\n",
        "#Returns the number of elements in the DataFrame.\n",
        "print('data frame size = ',df_dict.size)\n",
        "breakline()"
      ],
      "id": "16c394aa",
      "execution_count": null,
      "outputs": [
        {
          "output_type": "stream",
          "text": [
            "data frame from dictionary series \n",
            "   Name  age  rating\n",
            "0  vasi   21     4.3\n",
            "1   rio   20     4.5\n",
            "2  axel   21     4.1\n",
            "---------------------------------------------------------------\n",
            "data frame transposed\n",
            "           0    1     2\n",
            "Name    vasi  rio  axel\n",
            "age       21   20    21\n",
            "rating   4.3  4.5   4.1\n",
            "---------------------------------------------------------------\n",
            "dat frame axes\n",
            "[RangeIndex(start=0, stop=3, step=1), Index(['Name', 'age', 'rating'], dtype='object')]\n",
            "---------------------------------------------------------------\n",
            "data frame axes converted to listn[RangeIndex(start=0, stop=3, step=1), Index(['Name', 'age', 'rating'], dtype='object')]\n",
            "---------------------------------------------------------------\n",
            "data frame data type\n",
            "Name       object\n",
            "age         int64\n",
            "rating    float64\n",
            "dtype: object\n",
            "---------------------------------------------------------------\n",
            "data frame is empty =  False\n",
            "---------------------------------------------------------------\n",
            "data frame ndim(dimension) =  2\n",
            "---------------------------------------------------------------\n",
            "data frame shape =  (3, 3)\n",
            "---------------------------------------------------------------\n",
            "data frame size =  9\n",
            "---------------------------------------------------------------\n"
          ],
          "name": "stdout"
        }
      ]
    },
    {
      "cell_type": "code",
      "metadata": {
        "id": "596bac12",
        "outputId": "cb652ab9-6c3a-448e-d488-eca6d8c2acaa"
      },
      "source": [
        "# values\n",
        "# Returns the actual data in the DataFrame as an NDarray.\n",
        "print('data frame values',df_dict.values,sep='\\n')\n",
        "breakline()\n",
        "\n",
        "# Head & Tail\n",
        "# To view a small sample of a DataFrame object, use the head() and tail() methods. head() returns the first n rows (observe the index values). The default number of elements to display is five, but you may pass a custom number.\n",
        "print('data frame head values',df_dict.head(2),sep='\\n')\n",
        "breakline()\n",
        "\n",
        "print('data frame tail values',df_dict.tail(2),sep='\\n')\n",
        "breakline()\n",
        "\n",
        "print('data frame tail values',df_dict.tail(2),sep='\\n')\n",
        "breakline()"
      ],
      "id": "596bac12",
      "execution_count": null,
      "outputs": [
        {
          "output_type": "stream",
          "text": [
            "data frame values\n",
            "[['vasi' 21 4.3]\n",
            " ['rio' 20 4.5]\n",
            " ['axel' 21 4.1]]\n",
            "---------------------------------------------------------------\n",
            "data frame head values\n",
            "   Name  age  rating\n",
            "0  vasi   21     4.3\n",
            "1   rio   20     4.5\n",
            "---------------------------------------------------------------\n",
            "data frame tail values\n",
            "   Name  age  rating\n",
            "1   rio   20     4.5\n",
            "2  axel   21     4.1\n",
            "---------------------------------------------------------------\n",
            "data frame tail values\n",
            "   Name  age  rating\n",
            "1   rio   20     4.5\n",
            "2  axel   21     4.1\n",
            "---------------------------------------------------------------\n"
          ],
          "name": "stdout"
        }
      ]
    },
    {
      "cell_type": "markdown",
      "metadata": {
        "id": "3dfc6bb8"
      },
      "source": [
        "## Python Pandas - Descriptive Statistics\n",
        "\n",
        ">A large number of methods collectively compute descriptive statistics and other related operations on DataFrame. Most of these are aggregations like sum(), mean(), but some of them, like sumsum(), produce an object of the same size. Generally speaking, these methods take an axis argument, just like ndarray.{sum, std, ...}, but the axis can be specified by name or integer\n",
        "\n",
        "`DataFrame − “index” (axis=0, default), “columns” (axis=1)`\n",
        "\n",
        ">Let us create a DataFrame and use this object throughout this chapter for all the operations."
      ],
      "id": "3dfc6bb8"
    },
    {
      "cell_type": "code",
      "metadata": {
        "id": "13e1b280",
        "outputId": "41152fc8-f8f5-430d-8a6b-2272e6fc7492"
      },
      "source": [
        "df_stat = df_dict\n",
        "print('Data frame from dict', df_stat,sep='\\n')\n",
        "breakline()\n",
        "\n",
        "# sum()\n",
        "# Returns the sum of the values for the requested axis. By default, axis is index (axis=0).\n",
        "print('Data frame sum at axes',df_stat.sum(0),sep='\\n')\n",
        "breakline()\n",
        "\n",
        "print('Data frame sum at axes 0',df_stat.sum(1),sep='\\n')\n",
        "breakline()\n",
        "\n",
        "#df_stat[3]=df_stat[3]+df(pd.Series(['rr',22,3.4]))\n",
        "print('Data frame sum at axes 1',df_stat,sep='\\n')\n",
        "breakline()"
      ],
      "id": "13e1b280",
      "execution_count": null,
      "outputs": [
        {
          "output_type": "stream",
          "text": [
            "Data frame from dict\n",
            "   Name  age  rating\n",
            "0  vasi   21     4.3\n",
            "1   rio   20     4.5\n",
            "2  axel   21     4.1\n",
            "---------------------------------------------------------------\n",
            "Data frame sum at axes\n",
            "Name      vasirioaxel\n",
            "age                62\n",
            "rating           12.9\n",
            "dtype: object\n",
            "---------------------------------------------------------------\n",
            "Data frame sum at axes 0\n",
            "0    25.3\n",
            "1    24.5\n",
            "2    25.1\n",
            "dtype: float64\n",
            "---------------------------------------------------------------\n",
            "Data frame sum at axes 1\n",
            "   Name  age  rating\n",
            "0  vasi   21     4.3\n",
            "1   rio   20     4.5\n",
            "2  axel   21     4.1\n",
            "---------------------------------------------------------------\n"
          ],
          "name": "stdout"
        }
      ]
    },
    {
      "cell_type": "code",
      "metadata": {
        "id": "17000c77",
        "outputId": "aff9b9db-7964-4987-c42e-f636df144ea5"
      },
      "source": [
        "print(df_stat)"
      ],
      "id": "17000c77",
      "execution_count": null,
      "outputs": [
        {
          "output_type": "stream",
          "text": [
            "   Name  age  rating\n",
            "0  vasi   21     4.3\n",
            "1   rio   20     4.5\n",
            "2  axel   21     4.1\n"
          ],
          "name": "stdout"
        }
      ]
    },
    {
      "cell_type": "code",
      "metadata": {
        "id": "45518b95",
        "outputId": "f25e9530-84e6-461c-bc83-93b11a13508d"
      },
      "source": [
        "# mean()\n",
        "# Returns the average value\n",
        "print('data frame mean value',df_stat.mean(),sep='\\n')\n",
        "breakline()\n",
        "\n",
        "# std()\n",
        "# Returns the Bressel standard deviation of the numerical columns.\n",
        "print('data frame standard deviation value',df_stat.std(),sep='\\n')\n",
        "breakline()"
      ],
      "id": "45518b95",
      "execution_count": null,
      "outputs": [
        {
          "output_type": "stream",
          "text": [
            "data frame mean value\n",
            "age       20.666667\n",
            "rating     4.300000\n",
            "dtype: float64\n",
            "---------------------------------------------------------------\n",
            "data frame standard deviation value\n",
            "age       0.57735\n",
            "rating    0.20000\n",
            "dtype: float64\n",
            "---------------------------------------------------------------\n"
          ],
          "name": "stdout"
        }
      ]
    },
    {
      "cell_type": "markdown",
      "metadata": {
        "id": "71789f3c"
      },
      "source": [
        "## Functions & Description\n",
        ">Let us now understand the functions under Descriptive Statistics in Python Pandas.\n",
        "\n",
        ">The following table list down the important functions −\n",
        "\n",
        "|Sr.No.|\tFunction |\tDescription|\n",
        "|------|--------------|------------|\n",
        "|1|\tcount()|\tNumber of non-null observations|\n",
        "|2|\tsum()|\tSum of values|\n",
        "|3|\tmean()|\tMean of Values|\n",
        "|4|\tmedian()|\tMedian of Values|\n",
        "|5|\tmode()|\tMode of values|\n",
        "|6|\tstd()|\tStandard Deviation of the Values|\n",
        "|7|\tmin()|\tMinimum Value|\n",
        "|8|\tmax()|\tMaximum Value|\n",
        "|9|\tabs()|\tAbsolute Value|\n",
        "|10|\tprod()|\tProduct of Values|\n",
        "|11|\tcumsum()|\tCumulative Sum|\n",
        "|12|\tcumprod()|\tCumulative Product|\n",
        "\n",
        ">Note − Since DataFrame is a Heterogeneous data structure. Generic operations don’t work with all functions.\n",
        "\n",
        ">Functions like sum(), cumsum() work with both numeric and character (or) string data elements without any error. Though n practice, character aggregations are never used generally, these functions do not throw any exception.\n",
        "\n",
        ">Functions like abs(), cumprod() throw exception when the DataFrame contains character or string data because such operations cannot be performed."
      ],
      "id": "71789f3c"
    },
    {
      "cell_type": "code",
      "metadata": {
        "id": "d3f7d240",
        "outputId": "f0c78772-434d-41fc-ffde-f362357d5c40"
      },
      "source": [
        "print(df_stat)\n",
        "\n",
        "print('count fn ',df_stat.count(),sep='\\n') # no of elements in each cols\n",
        "breakline()\n",
        "\n",
        "print('sum fn ',df_stat.sum(),sep='\\n') # sum of elements in each cols\n",
        "breakline()\n",
        "\n",
        "print('mode fn ',df_stat.mode(),sep='\\n')\n",
        "breakline()\n",
        "\n",
        "print('max fn ',df_stat.max(),sep='\\n')\n",
        "breakline()\n",
        "\n",
        "print('abs fn ',df_stat.mode(),sep='\\n')\n",
        "breakline()"
      ],
      "id": "d3f7d240",
      "execution_count": null,
      "outputs": [
        {
          "output_type": "stream",
          "text": [
            "   Name  age  rating\n",
            "0  vasi   21     4.3\n",
            "1   rio   20     4.5\n",
            "2  axel   21     4.1\n",
            "count fn \n",
            "Name      3\n",
            "age       3\n",
            "rating    3\n",
            "dtype: int64\n",
            "---------------------------------------------------------------\n",
            "sum fn \n",
            "Name      vasirioaxel\n",
            "age                62\n",
            "rating           12.9\n",
            "dtype: object\n",
            "---------------------------------------------------------------\n",
            "mode fn \n",
            "   Name   age  rating\n",
            "0  axel  21.0     4.1\n",
            "1   rio   NaN     4.3\n",
            "2  vasi   NaN     4.5\n",
            "---------------------------------------------------------------\n",
            "max fn \n",
            "Name      vasi\n",
            "age         21\n",
            "rating     4.5\n",
            "dtype: object\n",
            "---------------------------------------------------------------\n",
            "abs fn \n",
            "   Name   age  rating\n",
            "0  axel  21.0     4.1\n",
            "1   rio   NaN     4.3\n",
            "2  vasi   NaN     4.5\n",
            "---------------------------------------------------------------\n"
          ],
          "name": "stdout"
        }
      ]
    },
    {
      "cell_type": "code",
      "metadata": {
        "id": "dffe25ea",
        "outputId": "f03a1db8-4343-4e18-bfed-6791c30a4e5e"
      },
      "source": [
        "# Summarizing Data\n",
        "# The describe() function computes a summary of statistics pertaining to the DataFrame columns.\n",
        "print(df_stat)\n",
        "breakline()\n",
        "\n",
        "# describe function\n",
        "print('data frame describe function',df_stat.describe(),sep='\\n')\n",
        "breakline()\n",
        "\n",
        "\n",
        "'''\n",
        "    This function gives the mean, std and IQR values. And, function excludes the character columns and given summary about numeric columns. 'include' is the argument which is used to pass necessary information regarding what columns need to be considered for summarizing. Takes the list of values; by default, 'number'.\n",
        "\n",
        "object − Summarizes String columns\n",
        "number − Summarizes Numeric columns\n",
        "all − Summarizes all columns together (Should not pass it as a list value)\n",
        "Now, use the following statement in the program and check the output −\n",
        "'''\n",
        "\n",
        "# describe function with object\n",
        "print('data frame describe function with object',df_stat.describe(include=['object']),sep='\\n')\n",
        "breakline()\n",
        "\n",
        "#describe function with all object\n",
        "print('data frame describe function with all object',df_stat.describe(include='all'),sep='\\n')\n",
        "breakline()"
      ],
      "id": "dffe25ea",
      "execution_count": null,
      "outputs": [
        {
          "output_type": "stream",
          "text": [
            "   Name  age  rating\n",
            "0  vasi   21     4.3\n",
            "1   rio   20     4.5\n",
            "2  axel   21     4.1\n",
            "---------------------------------------------------------------\n",
            "data frame describe function\n",
            "             age  rating\n",
            "count   3.000000     3.0\n",
            "mean   20.666667     4.3\n",
            "std     0.577350     0.2\n",
            "min    20.000000     4.1\n",
            "25%    20.500000     4.2\n",
            "50%    21.000000     4.3\n",
            "75%    21.000000     4.4\n",
            "max    21.000000     4.5\n",
            "---------------------------------------------------------------\n",
            "data frame describe function with object\n",
            "        Name\n",
            "count      3\n",
            "unique     3\n",
            "top     axel\n",
            "freq       1\n",
            "---------------------------------------------------------------\n",
            "data frame describe function with all object\n",
            "        Name        age  rating\n",
            "count      3   3.000000     3.0\n",
            "unique     3        NaN     NaN\n",
            "top     axel        NaN     NaN\n",
            "freq       1        NaN     NaN\n",
            "mean     NaN  20.666667     4.3\n",
            "std      NaN   0.577350     0.2\n",
            "min      NaN  20.000000     4.1\n",
            "25%      NaN  20.500000     4.2\n",
            "50%      NaN  21.000000     4.3\n",
            "75%      NaN  21.000000     4.4\n",
            "max      NaN  21.000000     4.5\n",
            "---------------------------------------------------------------\n"
          ],
          "name": "stdout"
        }
      ]
    },
    {
      "cell_type": "code",
      "metadata": {
        "id": "fbb0adef"
      },
      "source": [
        ""
      ],
      "id": "fbb0adef",
      "execution_count": null,
      "outputs": []
    }
  ]
}